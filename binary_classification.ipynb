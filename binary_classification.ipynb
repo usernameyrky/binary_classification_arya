{
 "cells": [
  {
   "cell_type": "markdown",
   "id": "ef282744",
   "metadata": {},
   "source": [
    "# Data Preprocessing"
   ]
  },
  {
   "cell_type": "code",
   "execution_count": 60,
   "id": "700c3521",
   "metadata": {},
   "outputs": [],
   "source": [
    "import numpy as np # used for handling numbers\n",
    "import pandas as pd # used for handling the dataset\n",
    "from sklearn.impute import SimpleImputer\n",
    "from sklearn.model_selection import train_test_split # used for splitting training and testing data\n",
    "from sklearn.preprocessing import StandardScaler # used for feature scaling\n",
    "from sklearn.preprocessing import MinMaxScaler\n",
    "from sklearn.metrics import confusion_matrix\n",
    "from sklearn.neighbors import KNeighborsClassifier\n",
    "from sklearn.metrics import mean_squared_error\n",
    "from sklearn.svm import SVC"
   ]
  },
  {
   "cell_type": "code",
   "execution_count": 68,
   "id": "ba942ad2",
   "metadata": {
    "scrolled": true
   },
   "outputs": [],
   "source": [
    "training_dataset = pd.read_csv('training_set.csv', index_col=0)"
   ]
  },
  {
   "cell_type": "code",
   "execution_count": 69,
   "id": "d2f0ce5b",
   "metadata": {},
   "outputs": [
    {
     "name": "stdout",
     "output_type": "stream",
     "text": [
      "number of duplicate rows:  (296, 58)\n"
     ]
    }
   ],
   "source": [
    "\n",
    "duplicate_rows_df = training_dataset[training_dataset.duplicated()]\n",
    "print(\"number of duplicate rows: \", duplicate_rows_df.shape)"
   ]
  },
  {
   "cell_type": "code",
   "execution_count": 41,
   "id": "4179ded5",
   "metadata": {},
   "outputs": [],
   "source": [
    "def get_accuracy(arr):\n",
    "    tp = arr[0][0]\n",
    "    tn = arr[1][1]\n",
    "    fp = arr[0][1]\n",
    "    fn = arr[1][0]\n",
    "    accuracy = (tp + tn) / (tp + tn + fp + fn)\n",
    "    accuracy_per = accuracy * 100\n",
    "    return accuracy_per"
   ]
  },
  {
   "cell_type": "code",
   "execution_count": 4,
   "id": "578083fb",
   "metadata": {
    "scrolled": false
   },
   "outputs": [
    {
     "data": {
      "text/html": [
       "<div>\n",
       "<style scoped>\n",
       "    .dataframe tbody tr th:only-of-type {\n",
       "        vertical-align: middle;\n",
       "    }\n",
       "\n",
       "    .dataframe tbody tr th {\n",
       "        vertical-align: top;\n",
       "    }\n",
       "\n",
       "    .dataframe thead th {\n",
       "        text-align: right;\n",
       "    }\n",
       "</style>\n",
       "<table border=\"1\" class=\"dataframe\">\n",
       "  <thead>\n",
       "    <tr style=\"text-align: right;\">\n",
       "      <th></th>\n",
       "      <th>X1</th>\n",
       "      <th>X2</th>\n",
       "      <th>X3</th>\n",
       "      <th>X4</th>\n",
       "      <th>X5</th>\n",
       "      <th>X6</th>\n",
       "      <th>X7</th>\n",
       "      <th>X8</th>\n",
       "      <th>X9</th>\n",
       "      <th>X10</th>\n",
       "      <th>...</th>\n",
       "      <th>X49</th>\n",
       "      <th>X50</th>\n",
       "      <th>X51</th>\n",
       "      <th>X52</th>\n",
       "      <th>X53</th>\n",
       "      <th>X54</th>\n",
       "      <th>X55</th>\n",
       "      <th>X56</th>\n",
       "      <th>X57</th>\n",
       "      <th>Y</th>\n",
       "    </tr>\n",
       "  </thead>\n",
       "  <tbody>\n",
       "    <tr>\n",
       "      <th>0</th>\n",
       "      <td>0.00</td>\n",
       "      <td>0.00</td>\n",
       "      <td>4.34</td>\n",
       "      <td>0.00</td>\n",
       "      <td>0.00</td>\n",
       "      <td>0.00</td>\n",
       "      <td>0.00</td>\n",
       "      <td>0.00</td>\n",
       "      <td>0.0</td>\n",
       "      <td>0.00</td>\n",
       "      <td>...</td>\n",
       "      <td>0.0</td>\n",
       "      <td>0.000</td>\n",
       "      <td>0.0</td>\n",
       "      <td>1.342</td>\n",
       "      <td>0.000</td>\n",
       "      <td>0.000</td>\n",
       "      <td>1.200</td>\n",
       "      <td>2</td>\n",
       "      <td>12</td>\n",
       "      <td>0</td>\n",
       "    </tr>\n",
       "    <tr>\n",
       "      <th>1</th>\n",
       "      <td>0.00</td>\n",
       "      <td>0.56</td>\n",
       "      <td>0.56</td>\n",
       "      <td>0.00</td>\n",
       "      <td>1.12</td>\n",
       "      <td>0.56</td>\n",
       "      <td>2.25</td>\n",
       "      <td>0.00</td>\n",
       "      <td>0.0</td>\n",
       "      <td>0.56</td>\n",
       "      <td>...</td>\n",
       "      <td>0.0</td>\n",
       "      <td>0.083</td>\n",
       "      <td>0.0</td>\n",
       "      <td>0.503</td>\n",
       "      <td>0.000</td>\n",
       "      <td>0.083</td>\n",
       "      <td>16.304</td>\n",
       "      <td>148</td>\n",
       "      <td>375</td>\n",
       "      <td>1</td>\n",
       "    </tr>\n",
       "    <tr>\n",
       "      <th>2</th>\n",
       "      <td>0.00</td>\n",
       "      <td>0.00</td>\n",
       "      <td>0.00</td>\n",
       "      <td>0.00</td>\n",
       "      <td>0.00</td>\n",
       "      <td>0.00</td>\n",
       "      <td>0.00</td>\n",
       "      <td>0.00</td>\n",
       "      <td>0.0</td>\n",
       "      <td>0.00</td>\n",
       "      <td>...</td>\n",
       "      <td>0.0</td>\n",
       "      <td>0.000</td>\n",
       "      <td>0.0</td>\n",
       "      <td>0.000</td>\n",
       "      <td>0.000</td>\n",
       "      <td>0.000</td>\n",
       "      <td>1.000</td>\n",
       "      <td>1</td>\n",
       "      <td>5</td>\n",
       "      <td>0</td>\n",
       "    </tr>\n",
       "    <tr>\n",
       "      <th>3</th>\n",
       "      <td>0.64</td>\n",
       "      <td>0.00</td>\n",
       "      <td>0.64</td>\n",
       "      <td>0.00</td>\n",
       "      <td>1.93</td>\n",
       "      <td>0.00</td>\n",
       "      <td>0.00</td>\n",
       "      <td>0.00</td>\n",
       "      <td>0.0</td>\n",
       "      <td>0.00</td>\n",
       "      <td>...</td>\n",
       "      <td>0.0</td>\n",
       "      <td>0.000</td>\n",
       "      <td>0.0</td>\n",
       "      <td>0.462</td>\n",
       "      <td>0.370</td>\n",
       "      <td>0.000</td>\n",
       "      <td>2.440</td>\n",
       "      <td>22</td>\n",
       "      <td>122</td>\n",
       "      <td>1</td>\n",
       "    </tr>\n",
       "    <tr>\n",
       "      <th>4</th>\n",
       "      <td>0.58</td>\n",
       "      <td>0.00</td>\n",
       "      <td>0.00</td>\n",
       "      <td>35.46</td>\n",
       "      <td>0.58</td>\n",
       "      <td>0.00</td>\n",
       "      <td>0.58</td>\n",
       "      <td>0.58</td>\n",
       "      <td>0.0</td>\n",
       "      <td>0.00</td>\n",
       "      <td>...</td>\n",
       "      <td>0.0</td>\n",
       "      <td>0.000</td>\n",
       "      <td>0.0</td>\n",
       "      <td>0.239</td>\n",
       "      <td>0.239</td>\n",
       "      <td>0.000</td>\n",
       "      <td>3.338</td>\n",
       "      <td>123</td>\n",
       "      <td>207</td>\n",
       "      <td>1</td>\n",
       "    </tr>\n",
       "  </tbody>\n",
       "</table>\n",
       "<p>5 rows × 58 columns</p>\n",
       "</div>"
      ],
      "text/plain": [
       "     X1    X2    X3     X4    X5    X6    X7    X8   X9   X10  ...  X49  \\\n",
       "0  0.00  0.00  4.34   0.00  0.00  0.00  0.00  0.00  0.0  0.00  ...  0.0   \n",
       "1  0.00  0.56  0.56   0.00  1.12  0.56  2.25  0.00  0.0  0.56  ...  0.0   \n",
       "2  0.00  0.00  0.00   0.00  0.00  0.00  0.00  0.00  0.0  0.00  ...  0.0   \n",
       "3  0.64  0.00  0.64   0.00  1.93  0.00  0.00  0.00  0.0  0.00  ...  0.0   \n",
       "4  0.58  0.00  0.00  35.46  0.58  0.00  0.58  0.58  0.0  0.00  ...  0.0   \n",
       "\n",
       "     X50  X51    X52    X53    X54     X55  X56  X57  Y  \n",
       "0  0.000  0.0  1.342  0.000  0.000   1.200    2   12  0  \n",
       "1  0.083  0.0  0.503  0.000  0.083  16.304  148  375  1  \n",
       "2  0.000  0.0  0.000  0.000  0.000   1.000    1    5  0  \n",
       "3  0.000  0.0  0.462  0.370  0.000   2.440   22  122  1  \n",
       "4  0.000  0.0  0.239  0.239  0.000   3.338  123  207  1  \n",
       "\n",
       "[5 rows x 58 columns]"
      ]
     },
     "execution_count": 4,
     "metadata": {},
     "output_type": "execute_result"
    }
   ],
   "source": [
    "training_dataset = training_dataset.drop_duplicates()\n",
    "training_dataset.head(5)"
   ]
  },
  {
   "cell_type": "code",
   "execution_count": 5,
   "id": "8b1c7939",
   "metadata": {
    "collapsed": true
   },
   "outputs": [
    {
     "name": "stdout",
     "output_type": "stream",
     "text": [
      "X1     0\n",
      "X2     0\n",
      "X3     0\n",
      "X4     0\n",
      "X5     0\n",
      "X6     0\n",
      "X7     0\n",
      "X8     0\n",
      "X9     0\n",
      "X10    0\n",
      "X11    0\n",
      "X12    0\n",
      "X13    0\n",
      "X14    0\n",
      "X15    0\n",
      "X16    0\n",
      "X17    0\n",
      "X18    0\n",
      "X19    0\n",
      "X20    0\n",
      "X21    0\n",
      "X22    0\n",
      "X23    0\n",
      "X24    0\n",
      "X25    0\n",
      "X26    0\n",
      "X27    0\n",
      "X28    0\n",
      "X29    0\n",
      "X30    0\n",
      "X31    0\n",
      "X32    0\n",
      "X33    0\n",
      "X34    0\n",
      "X35    0\n",
      "X36    0\n",
      "X37    0\n",
      "X38    0\n",
      "X39    0\n",
      "X40    0\n",
      "X41    0\n",
      "X42    0\n",
      "X43    0\n",
      "X44    0\n",
      "X45    0\n",
      "X46    0\n",
      "X47    0\n",
      "X48    0\n",
      "X49    0\n",
      "X50    0\n",
      "X51    0\n",
      "X52    0\n",
      "X53    0\n",
      "X54    0\n",
      "X55    0\n",
      "X56    0\n",
      "X57    0\n",
      "Y      0\n",
      "dtype: int64\n"
     ]
    }
   ],
   "source": [
    "print(training_dataset.isnull().sum())"
   ]
  },
  {
   "cell_type": "markdown",
   "id": "8179bb8e",
   "metadata": {},
   "source": [
    "The data has no null values"
   ]
  },
  {
   "cell_type": "code",
   "execution_count": 6,
   "id": "e828b596",
   "metadata": {
    "scrolled": true
   },
   "outputs": [],
   "source": [
    "#splitting into feature and target variables\n",
    "X = training_dataset.iloc[:, :-1].values\n",
    "Y = training_dataset.iloc[:, -1].values"
   ]
  },
  {
   "cell_type": "code",
   "execution_count": 7,
   "id": "a43c8e9d",
   "metadata": {},
   "outputs": [],
   "source": [
    "X_train, X_val, y_train, y_val = train_test_split(X,Y,test_size=0.2,random_state=42)"
   ]
  },
  {
   "cell_type": "code",
   "execution_count": 8,
   "id": "16034063",
   "metadata": {},
   "outputs": [
    {
     "data": {
      "text/plain": [
       "0    2176\n",
       "1    1438\n",
       "Name: Y, dtype: int64"
      ]
     },
     "execution_count": 8,
     "metadata": {},
     "output_type": "execute_result"
    }
   ],
   "source": [
    "training_dataset['Y'].value_counts()"
   ]
  },
  {
   "cell_type": "markdown",
   "id": "6e0e2192",
   "metadata": {},
   "source": [
    "# Normalization"
   ]
  },
  {
   "cell_type": "code",
   "execution_count": 9,
   "id": "01385e77",
   "metadata": {},
   "outputs": [],
   "source": [
    "norm = MinMaxScaler().fit(X_train)\n",
    "X_train_norm = norm.transform(X_train)\n",
    "X_val_norm = norm.transform(X_val)"
   ]
  },
  {
   "cell_type": "markdown",
   "id": "bf0034c5",
   "metadata": {},
   "source": [
    "# Standardization"
   ]
  },
  {
   "cell_type": "code",
   "execution_count": 10,
   "id": "091d3cd3",
   "metadata": {},
   "outputs": [],
   "source": [
    "X_train_stand = X_train.copy()\n",
    "X_val_stand = X_val.copy()\n",
    "scale = StandardScaler().fit(X_train_stand)\n",
    "X_train_stand = scale.transform(X_train_stand)\n",
    "X_val_stand = scale.transform(X_val_stand)"
   ]
  },
  {
   "cell_type": "code",
   "execution_count": 11,
   "id": "1c69c7f6",
   "metadata": {},
   "outputs": [
    {
     "data": {
      "image/png": "[encoded data removed]",
      "text/plain": [
       "<Figure size 720x504 with 1 Axes>"
      ]
     },
     "metadata": {
      "needs_background": "light"
     },
     "output_type": "display_data"
    }
   ],
   "source": [
    "#seeing how standardization has changed our data using boxplots\n",
    "import matplotlib.pyplot as plt\n",
    "\n",
    "fig = plt.figure(figsize=(10,7))\n",
    "\n",
    "plt.boxplot(X_train)\n",
    "plt.show()\n",
    "\n",
    "#as we observe here in the plot, the last two columns arent scaled and this can affect algos that use mean square error to find the accuracy of the model."
   ]
  },
  {
   "cell_type": "code",
   "execution_count": 12,
   "id": "62cdee4c",
   "metadata": {},
   "outputs": [
    {
     "data": {
      "image/png": "[encoded data removed]",
      "text/plain": [
       "<Figure size 720x504 with 1 Axes>"
      ]
     },
     "metadata": {
      "needs_background": "light"
     },
     "output_type": "display_data"
    }
   ],
   "source": [
    "fig = plt.figure(figsize=(10,7))\n",
    "\n",
    "plt.boxplot(X_train_norm)\n",
    "plt.show()\n",
    "\n",
    "\n",
    "#we can see in the plot below that the data is normalized and every value is between 0 and 1"
   ]
  },
  {
   "cell_type": "code",
   "execution_count": 13,
   "id": "05625c77",
   "metadata": {},
   "outputs": [
    {
     "data": {
      "image/png": "[encoded data removed]",
      "text/plain": [
       "<Figure size 720x504 with 1 Axes>"
      ]
     },
     "metadata": {
      "needs_background": "light"
     },
     "output_type": "display_data"
    }
   ],
   "source": [
    "fig = plt.figure(figsize=(10,7))\n",
    "\n",
    "plt.boxplot(X_train_stand)\n",
    "plt.show()\n",
    "\n",
    "#scaled data makes all the feautres comparable, as the data is now centered around mean and it has a unit standard deviation"
   ]
  },
  {
   "cell_type": "markdown",
   "id": "27200b79",
   "metadata": {},
   "source": [
    "# Applying KNN to unscaled, unnormalized data"
   ]
  },
  {
   "cell_type": "code",
   "execution_count": 31,
   "id": "66fed687",
   "metadata": {},
   "outputs": [],
   "source": []
  },
  {
   "cell_type": "code",
   "execution_count": 47,
   "id": "4397fbdf",
   "metadata": {},
   "outputs": [
    {
     "name": "stdout",
     "output_type": "stream",
     "text": [
      "The accuracy of unscaled, unnormalized model using KNN is :  77.59336099585063\n",
      "The rmse is :  0.4733565147343953\n"
     ]
    }
   ],
   "source": [
    "knn = KNeighborsClassifier(n_neighbors=5, metric='euclidean')\n",
    "knn.fit(X_train, y_train)\n",
    "y_pred = knn.predict(X_val)\n",
    "conf_simple_knn = confusion_matrix(y_val, y_pred)\n",
    "accuracy_simple_knn = get_accuracy(conf_simple_knn)\n",
    "print(\"The accuracy of unscaled, unnormalized model using KNN is : \" , accuracy_simple_knn)\n",
    "rmse_simple_knn = np.sqrt(mean_squared_error(y_val, y_pred))\n",
    "print(\"The rmse is : \" , rmse_simple_knn)"
   ]
  },
  {
   "cell_type": "markdown",
   "id": "5e9477e3",
   "metadata": {},
   "source": [
    "# KNN with normalization"
   ]
  },
  {
   "cell_type": "code",
   "execution_count": 53,
   "id": "33e422c5",
   "metadata": {
    "scrolled": true
   },
   "outputs": [
    {
     "name": "stdout",
     "output_type": "stream",
     "text": [
      "The accuracy of KNN model using standardization is :  88.93499308437067\n",
      "The rmse is :  0.3326410515199428\n"
     ]
    }
   ],
   "source": [
    "knn = KNeighborsClassifier(n_neighbors=5, metric='euclidean')\n",
    "knn.fit(X_train_norm, y_train)\n",
    "y_pred_norm = knn.predict(X_val_norm)\n",
    "conf_norm_knn = confusion_matrix(y_val, y_pred_norm)\n",
    "accuracy_norm_knn = get_accuracy(conf_norm_knn)\n",
    "print(\"The accuracy of KNN model using normalization is : \" , accuracy_norm_knn)\n",
    "rmse_norm_knn = np.sqrt(mean_squared_error(y_val, y_pred_norm))\n",
    "print(\"The rmse is : \" , rmse_norm_knn)"
   ]
  },
  {
   "cell_type": "markdown",
   "id": "b066c0d8",
   "metadata": {},
   "source": [
    "# KNN with Standardization"
   ]
  },
  {
   "cell_type": "code",
   "execution_count": 55,
   "id": "68fdf8b5",
   "metadata": {},
   "outputs": [
    {
     "name": "stdout",
     "output_type": "stream",
     "text": [
      "The accuracy of KNN model using normalization is :  91.14799446749655\n",
      "The rmse is :  0.2975232013222407\n"
     ]
    }
   ],
   "source": [
    "knn = KNeighborsClassifier(n_neighbors=5, metric='euclidean')\n",
    "knn.fit(X_train_stand, y_train)\n",
    "y_pred_stand = knn.predict(X_val_stand)\n",
    "conf_stand_knn = confusion_matrix(y_val, y_pred_stand)\n",
    "accuray_stand_knn = get_accuracy(conf_stand_knn)\n",
    "print(\"The accuracy of KNN model using normalization is : \" , accuray_stand_knn)\n",
    "rmse_stand_knn = np.sqrt(mean_squared_error(y_val, y_pred_stand))\n",
    "print(\"The rmse is : \" , rmse_stand_knn)"
   ]
  },
  {
   "cell_type": "markdown",
   "id": "05336371",
   "metadata": {},
   "source": [
    "# Thus, using standardization with K nearest neighbours work the best with the most accuracy of 91 percent and the least RMSE error of 0.297"
   ]
  },
  {
   "cell_type": "markdown",
   "id": "badf1618",
   "metadata": {},
   "source": [
    "# Support Vector Classifier"
   ]
  },
  {
   "cell_type": "code",
   "execution_count": 61,
   "id": "b8a7a70b",
   "metadata": {},
   "outputs": [
    {
     "name": "stdout",
     "output_type": "stream",
     "text": [
      "The accuracy of SVN on unprocessed data is :  72.89073305670816\n",
      "The rmse is :  0.5206656023139212\n"
     ]
    }
   ],
   "source": [
    "svc = SVC(kernel = 'rbf', C=5)\n",
    "svc.fit(X_train, y_train)\n",
    "y_pred_svn = svc.predict(X_val)\n",
    "conf_simple_svn = confusion_matrix(y_val, y_pred_svn)\n",
    "accuracy_simple_svn = get_accuracy(conf_simple_svn)\n",
    "print(\"The accuracy of SVN on unprocessed data is : \", accuracy_simple_svn)\n",
    "rmse_simple_svn = np.sqrt(mean_squared_error(y_val, y_pred_svn))\n",
    "print(\"The rmse is : \" , rmse_simple_svn)"
   ]
  },
  {
   "cell_type": "markdown",
   "id": "6535bec0",
   "metadata": {},
   "source": [
    "# Support Vector Classifier with normalized data"
   ]
  },
  {
   "cell_type": "code",
   "execution_count": 84,
   "id": "aa07ba5a",
   "metadata": {},
   "outputs": [
    {
     "name": "stdout",
     "output_type": "stream",
     "text": [
      "The accuracy of SVN on normalized data is :  92.25449515905947\n",
      "The rmse is :  0.2783074709909981\n"
     ]
    }
   ],
   "source": [
    "svc = SVC(kernel = 'rbf', C=5)\n",
    "svc.fit(X_train_norm, y_train)\n",
    "y_pred_svn_norm = svc.predict(X_val_norm)\n",
    "conf_norm_svn = confusion_matrix(y_val, y_pred_svn_norm)\n",
    "accuracy_norm_svn = get_accuracy(conf_norm_svn)\n",
    "print(\"The accuracy of SVN on normalized data is : \", accuracy_norm_svn)\n",
    "rmse_norm_svn = np.sqrt(mean_squared_error(y_val, y_pred_svn_norm))\n",
    "print(\"The rmse is : \" , rmse_norm_svn)"
   ]
  },
  {
   "cell_type": "markdown",
   "id": "34275133",
   "metadata": {},
   "source": [
    "# Support Vector Classifier with standardized data"
   ]
  },
  {
   "cell_type": "code",
   "execution_count": 85,
   "id": "33db0cb7",
   "metadata": {},
   "outputs": [
    {
     "name": "stdout",
     "output_type": "stream",
     "text": [
      "The accuracy of SVN on standardized data is :  92.11618257261411\n",
      "The rmse is :  0.2807813638293306\n"
     ]
    }
   ],
   "source": [
    "svc = SVC(kernel = 'rbf', C=5)\n",
    "svc.fit(X_train_stand, y_train)\n",
    "y_pred_svn_stand = svc.predict(X_val_stand)\n",
    "conf_stand_svn = confusion_matrix(y_val, y_pred_svn_stand)\n",
    "accuracy_stand_svn = get_accuracy(conf_stand_svn)\n",
    "print(\"The accuracy of SVN on standardized data is : \", accuracy_stand_svn)\n",
    "rmse_stand_svn = np.sqrt(mean_squared_error(y_val, y_pred_svn_stand))\n",
    "print(\"The rmse is : \" , rmse_stand_svn)"
   ]
  },
  {
   "cell_type": "markdown",
   "id": "399dceec",
   "metadata": {},
   "source": [
    "# Thus , we can conclude that Support vector classifier with Normalized data performs the best as compared to the models tried in this notebook. This final model has an accuracy of 92.25 percentage and the mean square error is 0.278"
   ]
  },
  {
   "cell_type": "markdown",
   "id": "0aecbc69",
   "metadata": {},
   "source": [
    "Predicting the values for the test dataset provided using SVN with normalized data."
   ]
  },
  {
   "cell_type": "code",
   "execution_count": 86,
   "id": "98b8c0f6",
   "metadata": {},
   "outputs": [],
   "source": [
    "test_data = pd.read_csv('test_set.csv', index_col = 0)"
   ]
  },
  {
   "cell_type": "code",
   "execution_count": 87,
   "id": "42e107ee",
   "metadata": {},
   "outputs": [],
   "source": [
    "norm = MinMaxScaler().fit(test_data)\n",
    "X_test_norm = norm.transform(test_data)"
   ]
  },
  {
   "cell_type": "code",
   "execution_count": 88,
   "id": "529668b6",
   "metadata": {},
   "outputs": [
    {
     "data": {
      "text/plain": [
       "array([[0.15418502, 0.        , 0.1372549 , ..., 0.00202413, 0.0346908 ,\n",
       "        0.00549277],\n",
       "       [0.        , 0.        , 0.16470588, ..., 0.01414027, 0.12594268,\n",
       "        0.01559442],\n",
       "       [0.10132159, 0.0210084 , 0.09019608, ..., 0.00737707, 0.14479638,\n",
       "        0.19180504],\n",
       "       ...,\n",
       "       [0.        , 0.        , 0.        , ..., 0.00201056, 0.00301659,\n",
       "        0.00031568],\n",
       "       [0.01762115, 0.00560224, 0.11176471, ..., 0.00131976, 0.04826546,\n",
       "        0.03409306],\n",
       "       [0.        , 0.        , 0.        , ..., 0.0015083 , 0.00226244,\n",
       "        0.00088389]])"
      ]
     },
     "execution_count": 88,
     "metadata": {},
     "output_type": "execute_result"
    }
   ],
   "source": [
    "X_test_norm"
   ]
  },
  {
   "cell_type": "code",
   "execution_count": 89,
   "id": "f5cc10d5",
   "metadata": {},
   "outputs": [],
   "source": [
    "y_pred_final = svc.predict(X_test_norm)"
   ]
  },
  {
   "cell_type": "code",
   "execution_count": 90,
   "id": "b790032d",
   "metadata": {},
   "outputs": [],
   "source": [
    "test_data['Y'] = y_pred_final"
   ]
  },
  {
   "cell_type": "code",
   "execution_count": 91,
   "id": "9bf41d4f",
   "metadata": {},
   "outputs": [],
   "source": [
    "test_data.to_csv(\"final_predictions.csv\")"
   ]
  }
 ],
 "metadata": {
  "kernelspec": {
   "display_name": "Python 3",
   "language": "python",
   "name": "python3"
  },
  "language_info": {
   "codemirror_mode": {
    "name": "ipython",
    "version": 3
   },
   "file_extension": ".py",
   "mimetype": "text/x-python",
   "name": "python",
   "nbconvert_exporter": "python",
   "pygments_lexer": "ipython3",
   "version": "3.6.13"
  }
 },
 "nbformat": 4,
 "nbformat_minor": 5
}
